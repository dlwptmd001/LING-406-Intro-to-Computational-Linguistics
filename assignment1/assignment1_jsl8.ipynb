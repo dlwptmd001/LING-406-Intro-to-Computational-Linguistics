{
 "cells": [
  {
   "cell_type": "markdown",
   "metadata": {},
   "source": [
    "To Grader: Please run all cells, and check \"output.txt\" file"
   ]
  },
  {
   "cell_type": "markdown",
   "metadata": {},
   "source": [
    "## 1. Library"
   ]
  },
  {
   "cell_type": "code",
   "execution_count": 1,
   "metadata": {
    "ExecuteTime": {
     "end_time": "2021-02-11T23:19:29.794764Z",
     "start_time": "2021-02-11T23:19:29.792107Z"
    }
   },
   "outputs": [],
   "source": [
    "import re"
   ]
  },
  {
   "cell_type": "code",
   "execution_count": 2,
   "metadata": {
    "ExecuteTime": {
     "end_time": "2021-02-11T23:19:29.909954Z",
     "start_time": "2021-02-11T23:19:29.797385Z"
    }
   },
   "outputs": [],
   "source": [
    "import docx"
   ]
  },
  {
   "cell_type": "markdown",
   "metadata": {},
   "source": [
    "## 2. File Directory"
   ]
  },
  {
   "cell_type": "code",
   "execution_count": 3,
   "metadata": {
    "ExecuteTime": {
     "end_time": "2021-02-11T23:19:29.915822Z",
     "start_time": "2021-02-11T23:19:29.912729Z"
    }
   },
   "outputs": [],
   "source": [
    "######### example #############\n",
    "test_docx = \"../Data/Input/input.Hw1.docx\"\n",
    "sample_txt = \"../Data/Input/test.txt\"\n",
    "output_test_txt = \"../Data/Output/output_test.txt\""
   ]
  },
  {
   "cell_type": "code",
   "execution_count": 4,
   "metadata": {
    "ExecuteTime": {
     "end_time": "2021-02-11T23:19:29.923513Z",
     "start_time": "2021-02-11T23:19:29.921030Z"
    }
   },
   "outputs": [],
   "source": [
    "######### testing #############\n",
    "input_txt = \"../Data/Input/input.txt\"\n",
    "output_txt = '../Data/Output/output.txt'"
   ]
  },
  {
   "cell_type": "markdown",
   "metadata": {},
   "source": [
    "## 3. Regex Patterns"
   ]
  },
  {
   "cell_type": "code",
   "execution_count": 5,
   "metadata": {
    "ExecuteTime": {
     "end_time": "2021-02-11T23:19:29.928660Z",
     "start_time": "2021-02-11T23:19:29.925490Z"
    }
   },
   "outputs": [],
   "source": [
    "re_list = [\n",
    "\n",
    "    '(?:0[1-9]|1[0-2])[-/.](?:0[1-9]|[12][0-9]|3[01])(?:[-/.]\\d{4})?',\n",
    "    '(?:Monday|Tuesday|Wednesday|Thursday|Friday|Saturday|Sunday)(?:,\\s\\w+)?[.]?\\s\\d{4}', # Monday, Jan. 2019\n",
    "    '(?:Monday|Tuesday|Wednesday|Thursday|Friday|Saturday|Sunday)[,]?\\s(?:1[0-2]|[1-9])(?:a.m|p.m|am|pm)',\n",
    "    '(?:Monday|Tuesday|Wednesday|Thursday|Friday|Saturday|Sunday)\\s(?:morning|noon|afternoon|night)',\n",
    "    '(?:The|the)\\s(?:(?:0[1-9]|[12][0-9]|3[01])(?:st|[nr]d|th)\\s(?:of)\\s\\w+|\\w{4}\\s\\d{4})(?:,\\s)?(?:\\d{4})?', # the 30th of January\n",
    "    '(?:Monday|Tuesday|Wednesday|Thursday|Friday|Saturday|Sunday)\\sthe\\s(?:0[1-9]|[12][0-9]|3[01])(?:st|[nr]d|th)', # Monday the 23rd\n",
    "    '(?:(?:Monday|Tuesday|Wednesday|Thursday|Friday|Saturday|Sunday),\\s)?(?:January|February|March|April|May|June|July|August|September|October|November|December|Jan|Feb|Mar|Apr|Aug|Sep|Oct|Nov|Dec)\\s+(?:0[1-9]|[12][0-9]|3[01])(?:(?:st|[nr]d|th))?(?:,\\s+\\d{4})?',\n",
    "    # (Tuesday, March 15th), (May 13), (May 13, 2007), (Friday, December 21, 2012), (March 12th), (January 15, 2014)\n",
    "    '(?:Monday|Tuesday|Wednesday|Thursday|Friday|Saturday|Sunday),\\s(?:January|February|March|April|May|June|July|August|September|October|November|December|Jan|Feb|Mar|Apr|Aug|Sep|Oct|Nov|Dec)(?:.|,)?(?:\\s(?:0[1-9]|[12][0-9]|3[01]))?(?:st|[nr]d|th)?(?:(?:,\\s)?\\d{4})?',\n",
    "    # (Tuesday, March), (Thursday, Nov. 28th, 1948), (Tuesday, Oct. 2018), (Tuesday, Oct. 20)\n",
    "    '(?:January|February|March|April|May|June|July|August|September|October|November|December|Jan|Feb|Mar|Apr|Aug|Sep|Oct|Nov|Dec)\\s(?:[1-9]|[12][0-9]|3[01])(?:st|[nr]d|th),\\s\\d{4}',\n",
    "    '(?:Monday|Tuesday|Wednesday|Thursday|Friday|Saturday|Sunday)',\n",
    "    '(?:January|February|March|April|May|June|July|August|September|October|November|December|Jan|Feb|Mar|Apr|Aug|Sep|Oct|Nov|Dec)\\s(?:0[1-9]|[12][0-9]|3[01])(?:st|[nr]d|th)\\d{4}',\n",
    "    \"(?:New Year's|Martin Luther King, Jr.|George Washington’s Birthday|Memorial|Independence|Labor|Columbus|Veterans|Thanksgiving|Christmas)(?:\\sDay)?\"\n",
    "]"
   ]
  },
  {
   "cell_type": "code",
   "execution_count": 6,
   "metadata": {
    "ExecuteTime": {
     "end_time": "2021-02-11T23:19:29.934839Z",
     "start_time": "2021-02-11T23:19:29.930805Z"
    }
   },
   "outputs": [
    {
     "name": "stdout",
     "output_type": "stream",
     "text": [
      "(?:0[1-9]|1[0-2])[-/.](?:0[1-9]|[12][0-9]|3[01])(?:[-/.]\\d{4})?\n",
      "(?:Monday|Tuesday|Wednesday|Thursday|Friday|Saturday|Sunday)(?:,\\s\\w+)?[.]?\\s\\d{4}\n",
      "(?:Monday|Tuesday|Wednesday|Thursday|Friday|Saturday|Sunday)[,]?\\s(?:1[0-2]|[1-9])(?:a.m|p.m|am|pm)\n",
      "(?:Monday|Tuesday|Wednesday|Thursday|Friday|Saturday|Sunday)\\s(?:morning|noon|afternoon|night)\n",
      "(?:The|the)\\s(?:(?:0[1-9]|[12][0-9]|3[01])(?:st|[nr]d|th)\\s(?:of)\\s\\w+|\\w{4}\\s\\d{4})(?:,\\s)?(?:\\d{4})?\n",
      "(?:Monday|Tuesday|Wednesday|Thursday|Friday|Saturday|Sunday)\\sthe\\s(?:0[1-9]|[12][0-9]|3[01])(?:st|[nr]d|th)\n",
      "(?:(?:Monday|Tuesday|Wednesday|Thursday|Friday|Saturday|Sunday),\\s)?(?:January|February|March|April|May|June|July|August|September|October|November|December|Jan|Feb|Mar|Apr|Aug|Sep|Oct|Nov|Dec)\\s+(?:0[1-9]|[12][0-9]|3[01])(?:(?:st|[nr]d|th))?(?:,\\s+\\d{4})?\n",
      "(?:Monday|Tuesday|Wednesday|Thursday|Friday|Saturday|Sunday),\\s(?:January|February|March|April|May|June|July|August|September|October|November|December|Jan|Feb|Mar|Apr|Aug|Sep|Oct|Nov|Dec)(?:.|,)?(?:\\s(?:0[1-9]|[12][0-9]|3[01]))?(?:st|[nr]d|th)?(?:(?:,\\s)?\\d{4})?\n",
      "(?:January|February|March|April|May|June|July|August|September|October|November|December|Jan|Feb|Mar|Apr|Aug|Sep|Oct|Nov|Dec)\\s(?:[1-9]|[12][0-9]|3[01])(?:st|[nr]d|th),\\s\\d{4}\n",
      "(?:Monday|Tuesday|Wednesday|Thursday|Friday|Saturday|Sunday)\n",
      "(?:January|February|March|April|May|June|July|August|September|October|November|December|Jan|Feb|Mar|Apr|Aug|Sep|Oct|Nov|Dec)\\s(?:0[1-9]|[12][0-9]|3[01])(?:st|[nr]d|th)\\d{4}\n",
      "(?:New Year's|Martin Luther King, Jr.|George Washington’s Birthday|Memorial|Independence|Labor|Columbus|Veterans|Thanksgiving|Christmas)(?:\\sDay)?\n"
     ]
    }
   ],
   "source": [
    "for re in re_list:\n",
    "    print(re)"
   ]
  },
  {
   "cell_type": "code",
   "execution_count": 7,
   "metadata": {
    "ExecuteTime": {
     "end_time": "2021-02-11T23:19:29.950770Z",
     "start_time": "2021-02-11T23:19:29.940946Z"
    }
   },
   "outputs": [
    {
     "data": {
      "text/plain": [
       "12"
      ]
     },
     "execution_count": 7,
     "metadata": {},
     "output_type": "execute_result"
    }
   ],
   "source": [
    "len(re_list)"
   ]
  },
  {
   "cell_type": "markdown",
   "metadata": {},
   "source": [
    "## 4. Example"
   ]
  },
  {
   "cell_type": "markdown",
   "metadata": {},
   "source": [
    "### 4.1  Given docx file"
   ]
  },
  {
   "cell_type": "code",
   "execution_count": 8,
   "metadata": {
    "ExecuteTime": {
     "end_time": "2021-02-11T23:19:29.959148Z",
     "start_time": "2021-02-11T23:19:29.953979Z"
    }
   },
   "outputs": [
    {
     "data": {
      "text/plain": [
       "'def'"
      ]
     },
     "execution_count": 8,
     "metadata": {},
     "output_type": "execute_result"
    }
   ],
   "source": [
    "## check re package works - sometimes it's not working on my laptop\n",
    "import re\n",
    "m = re.search('(?<=abc)def', 'abcdef')\n",
    "m.group(0)"
   ]
  },
  {
   "cell_type": "code",
   "execution_count": 9,
   "metadata": {
    "ExecuteTime": {
     "end_time": "2021-02-11T23:19:29.991152Z",
     "start_time": "2021-02-11T23:19:29.961820Z"
    }
   },
   "outputs": [],
   "source": [
    "doc = docx.Document(test_docx)\n",
    "matches = []\n",
    "\n",
    "with open(output_test_txt,\"w\") as result:\n",
    "    \n",
    "    for sent in doc.paragraphs:\n",
    "        sub_matches = []\n",
    "        for r in re_list:\n",
    "\n",
    "            match = re.findall(r, sent.text)\n",
    "\n",
    "            if len(match) != 0:\n",
    "                sub_matches.append(match)\n",
    "        if len(sub_matches) > 1:\n",
    "#             print(sub_matches)\n",
    "            for ix in range(len(sub_matches)-1):\n",
    "                if len(sub_matches[ix+1]) >1:\n",
    "#                     print(sub_matches[ix+1], sub_matches[ix])\n",
    "                    if sub_matches[ix+1][0] in sub_matches[ix][0]:\n",
    "#                         print(sub_matches[ix+1][0])\n",
    "                        sub_matches[ix+1].pop(0)\n",
    "#                         print(sub_matches[ix+1])\n",
    "                # only choose longest one \n",
    "                if sub_matches[ix+1][0] in sub_matches[ix][0]:\n",
    "                    #replacing duplicated dates to \"del\"(string type)\n",
    "                    sub_matches[ix+1] = 'del'\n",
    "        for mat in sub_matches:\n",
    "            # only write list type, which means I don't want \"del\"     \n",
    "            if type(mat) == list:\n",
    "                matches.append(mat[0])\n",
    "                    \n",
    "        \n",
    "    \n",
    "    for match in matches:\n",
    "        result.write('\"' + match + '\"\\n')"
   ]
  },
  {
   "cell_type": "code",
   "execution_count": 10,
   "metadata": {
    "ExecuteTime": {
     "end_time": "2021-02-11T23:19:29.998044Z",
     "start_time": "2021-02-11T23:19:29.993403Z"
    }
   },
   "outputs": [
    {
     "data": {
      "text/plain": [
       "['Monday',\n",
       " 'Wednesday, Oct. 11th',\n",
       " 'Tuesday',\n",
       " 'Monday 8a.m',\n",
       " 'Wednesday',\n",
       " 'Monday afternoon',\n",
       " 'Tuesday, Oct. 2018',\n",
       " 'October 20th',\n",
       " 'Tuesday, Oct. 20',\n",
       " '10/10/2018',\n",
       " 'Christmas Day']"
      ]
     },
     "execution_count": 10,
     "metadata": {},
     "output_type": "execute_result"
    }
   ],
   "source": [
    "matches"
   ]
  },
  {
   "cell_type": "markdown",
   "metadata": {},
   "source": [
    "### 4.2 more examples from the assignment description pdf"
   ]
  },
  {
   "cell_type": "code",
   "execution_count": 11,
   "metadata": {
    "ExecuteTime": {
     "end_time": "2021-02-11T23:19:30.010641Z",
     "start_time": "2021-02-11T23:19:30.001148Z"
    },
    "scrolled": true
   },
   "outputs": [],
   "source": [
    "extracted = []\n",
    "with open(sample_txt,\"r\") as test:\n",
    "    \n",
    "    ttt = test.readlines()\n",
    "    \n",
    "    for tt in ttt:\n",
    "        sub_matches = []\n",
    "        for r in re_list:\n",
    "\n",
    "            match = re.findall(r, tt)\n",
    "\n",
    "            if len(match) != 0:\n",
    "                sub_matches.append(match)\n",
    "                \n",
    "        if len(sub_matches) > 1:\n",
    "            for ix in range(len(sub_matches)-1):\n",
    "                if len(sub_matches[ix+1]) >1:\n",
    "#                     print(sub_matches[ix+1], sub_matches[ix])\n",
    "                    if sub_matches[ix+1][0] in sub_matches[ix][0]:\n",
    "#                         print(sub_matches[ix+1][0])\n",
    "                        sub_matches[ix+1].pop(0)\n",
    "#                         print(sub_matches[ix+1])\n",
    "                if sub_matches[ix+1][0] in sub_matches[ix][0]:\n",
    "                    sub_matches[ix+1] = 'del'\n",
    "        for mat in sub_matches:\n",
    "            if type(mat) == list:\n",
    "                extracted.append(mat[0])"
   ]
  },
  {
   "cell_type": "code",
   "execution_count": 12,
   "metadata": {
    "ExecuteTime": {
     "end_time": "2021-02-11T23:19:30.017561Z",
     "start_time": "2021-02-11T23:19:30.013223Z"
    }
   },
   "outputs": [
    {
     "data": {
      "text/plain": [
       "['January 5th, 2015',\n",
       " 'the 25th of February',\n",
       " 'Tuesday, March 15th',\n",
       " 'Tuesday',\n",
       " 'May 13',\n",
       " 'the 13th of May',\n",
       " 'May 13, 2007',\n",
       " '04/01/1999',\n",
       " 'Monday',\n",
       " '10/31',\n",
       " 'Thursday, Nov. 28th, 1948',\n",
       " 'Friday, December 21, 2012',\n",
       " 'Friday',\n",
       " 'March 12th',\n",
       " 'Thursday',\n",
       " 'January 1st, 2020',\n",
       " 'Monday, January ',\n",
       " 'January 1st, 2020',\n",
       " 'Monday',\n",
       " 'The year 1929',\n",
       " 'Monday, May ',\n",
       " 'January 15, 2014',\n",
       " 'the 21st of December',\n",
       " '01/15/2014',\n",
       " 'Monday',\n",
       " 'Monday the 23rd',\n",
       " 'Monday, 2pm',\n",
       " 'Monday afternoon']"
      ]
     },
     "execution_count": 12,
     "metadata": {},
     "output_type": "execute_result"
    }
   ],
   "source": [
    "extracted"
   ]
  },
  {
   "cell_type": "code",
   "execution_count": 13,
   "metadata": {
    "ExecuteTime": {
     "end_time": "2021-02-11T23:19:30.023812Z",
     "start_time": "2021-02-11T23:19:30.020189Z"
    }
   },
   "outputs": [],
   "source": [
    "with open(output_test_txt,\"w+\") as result:\n",
    "    for match in extracted:\n",
    "        result.write('\"' + match + '\"\\n')"
   ]
  },
  {
   "cell_type": "markdown",
   "metadata": {},
   "source": [
    "## 5. Test"
   ]
  },
  {
   "cell_type": "code",
   "execution_count": 14,
   "metadata": {
    "ExecuteTime": {
     "end_time": "2021-02-11T23:19:30.127024Z",
     "start_time": "2021-02-11T23:19:30.026717Z"
    }
   },
   "outputs": [
    {
     "ename": "FileNotFoundError",
     "evalue": "[Errno 2] No such file or directory: '../Data/Input/input.txt'",
     "output_type": "error",
     "traceback": [
      "\u001b[0;31m---------------------------------------------------------------------------\u001b[0m",
      "\u001b[0;31mFileNotFoundError\u001b[0m                         Traceback (most recent call last)",
      "\u001b[0;32m<ipython-input-14-b1b0bc06189b>\u001b[0m in \u001b[0;36m<module>\u001b[0;34m\u001b[0m\n\u001b[1;32m      2\u001b[0m \u001b[0;34m\u001b[0m\u001b[0m\n\u001b[1;32m      3\u001b[0m \u001b[0;31m# Open input text file as \"test\"\u001b[0m\u001b[0;34m\u001b[0m\u001b[0;34m\u001b[0m\u001b[0;34m\u001b[0m\u001b[0m\n\u001b[0;32m----> 4\u001b[0;31m \u001b[0;32mwith\u001b[0m \u001b[0mopen\u001b[0m\u001b[0;34m(\u001b[0m\u001b[0minput_txt\u001b[0m\u001b[0;34m,\u001b[0m\u001b[0;34m\"r\"\u001b[0m\u001b[0;34m)\u001b[0m \u001b[0;32mas\u001b[0m \u001b[0mtest\u001b[0m\u001b[0;34m:\u001b[0m\u001b[0;34m\u001b[0m\u001b[0;34m\u001b[0m\u001b[0m\n\u001b[0m\u001b[1;32m      5\u001b[0m \u001b[0;34m\u001b[0m\u001b[0m\n\u001b[1;32m      6\u001b[0m     \u001b[0;31m# Read line by line and save in one list\u001b[0m\u001b[0;34m\u001b[0m\u001b[0;34m\u001b[0m\u001b[0;34m\u001b[0m\u001b[0m\n",
      "\u001b[0;31mFileNotFoundError\u001b[0m: [Errno 2] No such file or directory: '../Data/Input/input.txt'"
     ]
    }
   ],
   "source": [
    "extracted = []\n",
    "\n",
    "# Open input text file as \"test\"\n",
    "with open(input_txt,\"r\") as test:\n",
    "    \n",
    "    # Read line by line and save in one list\n",
    "    sentences = test.readlines()\n",
    "    \n",
    "    # iterate all sentence in the list\n",
    "    for tt in sentences:\n",
    "        sub_matches = []\n",
    "        # iterate regex patterns\n",
    "        for r in re_list:\n",
    "                \n",
    "                # apply a regex and find match dates & time\n",
    "                # This return matched corpus as list\n",
    "                match = re.findall(r, tt)\n",
    "                # Append matching corpus within same sentence into sub_matches list, \n",
    "                # except the empty capture group\n",
    "                if len(match) != 0:\n",
    "                    # \"sub_matches\" list is a form of nested list\n",
    "                    sub_matches.append(match)\n",
    "                    \n",
    "        # A case that have multiple matches in one sentence\n",
    "        if len(sub_matches) > 1:\n",
    "            for ix in range(len(sub_matches)-1):\n",
    "                \n",
    "                # A case sublist have multiple components\n",
    "                if len(sub_matches[ix+1]) >1:\n",
    "                    if sub_matches[ix+1][0] in sub_matches[ix][0]:\n",
    "                        sub_matches[ix+1].pop(0)\n",
    "                        \n",
    "                # Check nth component contains (n+1)th component\n",
    "                # Sometimes it tends to capture two, but we only expect to capture one which is the longest\n",
    "                if sub_matches[ix+1][0] in sub_matches[ix][0]:\n",
    "                    # if yes, replacing list to string type\n",
    "                    sub_matches[ix+1] = 'del'     \n",
    "                    \n",
    "        # Append matching corpus into new list that have other sentences's captured corpus         \n",
    "        for mat in sub_matches:\n",
    "            # As I replaced sub-capture group into string type, which I don't want to output,\n",
    "            # I only want to output the list type from the \"extracted\" list.\n",
    "            if type(mat) == list:\n",
    "                # extracted list is a list\n",
    "                extracted.append(mat[0])"
   ]
  },
  {
   "cell_type": "code",
   "execution_count": null,
   "metadata": {
    "ExecuteTime": {
     "end_time": "2021-02-11T23:19:30.140802Z",
     "start_time": "2021-02-11T23:19:29.815Z"
    }
   },
   "outputs": [],
   "source": [
    "extracted"
   ]
  },
  {
   "cell_type": "code",
   "execution_count": null,
   "metadata": {
    "ExecuteTime": {
     "end_time": "2021-02-11T23:19:30.143072Z",
     "start_time": "2021-02-11T23:19:29.818Z"
    }
   },
   "outputs": [],
   "source": [
    "# Open output text file that we can write our result\n",
    "with open(output_txt,\"w+\") as result:\n",
    "    for match in extracted:\n",
    "        result.write('\"' + match + '\"\\n')"
   ]
  }
 ],
 "metadata": {
  "kernelspec": {
   "display_name": "Python 3",
   "language": "python",
   "name": "python3"
  },
  "language_info": {
   "codemirror_mode": {
    "name": "ipython",
    "version": 3
   },
   "file_extension": ".py",
   "mimetype": "text/x-python",
   "name": "python",
   "nbconvert_exporter": "python",
   "pygments_lexer": "ipython3",
   "version": "3.7.3"
  },
  "toc": {
   "base_numbering": 1,
   "nav_menu": {},
   "number_sections": false,
   "sideBar": true,
   "skip_h1_title": false,
   "title_cell": "Table of Contents",
   "title_sidebar": "Contents",
   "toc_cell": false,
   "toc_position": {},
   "toc_section_display": true,
   "toc_window_display": false
  },
  "varInspector": {
   "cols": {
    "lenName": 16,
    "lenType": 16,
    "lenVar": 40
   },
   "kernels_config": {
    "python": {
     "delete_cmd_postfix": "",
     "delete_cmd_prefix": "del ",
     "library": "var_list.py",
     "varRefreshCmd": "print(var_dic_list())"
    },
    "r": {
     "delete_cmd_postfix": ") ",
     "delete_cmd_prefix": "rm(",
     "library": "var_list.r",
     "varRefreshCmd": "cat(var_dic_list()) "
    }
   },
   "types_to_exclude": [
    "module",
    "function",
    "builtin_function_or_method",
    "instance",
    "_Feature"
   ],
   "window_display": false
  }
 },
 "nbformat": 4,
 "nbformat_minor": 4
}
